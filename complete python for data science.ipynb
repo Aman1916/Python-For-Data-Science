{
 "cells": [
  {
   "cell_type": "markdown",
   "id": "d11be04d-64ff-4a87-87a9-c4f6b6a39b97",
   "metadata": {},
   "source": [
    "# lets begin!!!"
   ]
  },
  {
   "cell_type": "code",
   "execution_count": 1,
   "id": "4a4e2ffd-831b-465e-b187-ba663bc2924d",
   "metadata": {},
   "outputs": [
    {
     "name": "stdout",
     "output_type": "stream",
     "text": [
      "hyy aman\n"
     ]
    }
   ],
   "source": [
    "print(\"hyy aman\")"
   ]
  },
  {
   "cell_type": "markdown",
   "id": "302ad15a-bd9a-4eca-a03a-e7c324bd7811",
   "metadata": {},
   "source": [
    "## comments"
   ]
  },
  {
   "cell_type": "code",
   "execution_count": 4,
   "id": "ffc8f18c-c44e-4f03-9323-b61292682d42",
   "metadata": {},
   "outputs": [
    {
     "name": "stdout",
     "output_type": "stream",
     "text": [
      "17\n"
     ]
    },
    {
     "data": {
      "text/plain": [
       "' helo '"
      ]
     },
     "execution_count": 4,
     "metadata": {},
     "output_type": "execute_result"
    }
   ],
   "source": [
    "#single line comment\n",
    "print(9+8)"
   ]
  },
  {
   "cell_type": "markdown",
   "id": "090d54a8-1c59-4867-b5ef-0e01fdf647cc",
   "metadata": {},
   "source": [
    "# variable"
   ]
  },
  {
   "cell_type": "code",
   "execution_count": 6,
   "id": "af473df3-327f-4b3a-830f-9bd239b32940",
   "metadata": {},
   "outputs": [
    {
     "name": "stdout",
     "output_type": "stream",
     "text": [
      "applebanana\n"
     ]
    }
   ],
   "source": [
    "#it is a container that stores values.python is not \"statically typed\". We do not need to declear \n",
    "#variable before using them or declear their type.\n",
    "#a python variable is a name given to a memory location it is basic  unit of storage in a programe\n",
    "\n",
    "#variable are case sensitive ex- AGE age Age are diff variable\n",
    "\n",
    "x,y='apple','banana'\n",
    "print(x+y)\n"
   ]
  },
  {
   "cell_type": "code",
   "execution_count": 7,
   "id": "86964a6b-eac1-4ec4-af54-04da6773e235",
   "metadata": {},
   "outputs": [
    {
     "name": "stdout",
     "output_type": "stream",
     "text": [
      "10\n"
     ]
    }
   ],
   "source": [
    "X,x=4,6\n",
    "print(X+x)"
   ]
  },
  {
   "cell_type": "code",
   "execution_count": 8,
   "id": "45e7ae83-8d47-4de9-a6fe-7729779f3b20",
   "metadata": {},
   "outputs": [
    {
     "name": "stdout",
     "output_type": "stream",
     "text": [
      "a b h\n",
      "a\n",
      "b\n",
      "h\n"
     ]
    }
   ],
   "source": [
    "X=\"a\"\n",
    "x=\"b\"\n",
    "v =\"h\"\n",
    "print(X,x,v)\n",
    "print(X)\n",
    "print(x)\n",
    "print(v)"
   ]
  },
  {
   "cell_type": "markdown",
   "id": "874c7010-3ea5-45bb-b73b-b1b1ee68b89f",
   "metadata": {},
   "source": [
    "## Data type"
   ]
  },
  {
   "cell_type": "markdown",
   "id": "6872f846-59d7-4d32-9fee-1cd53499ad11",
   "metadata": {},
   "source": [
    "variable can store data of different types \n",
    "Types \n",
    "text type - str\n",
    "Numeric Type  - int,flot,complex\n",
    "Sequence - list ,tuple,range\n",
    "Mapping - dict\n",
    "set types - set,frozenset\n",
    "Boolean type- bool\n",
    "binary types - bytes,bytearray"
   ]
  },
  {
   "cell_type": "code",
   "execution_count": 10,
   "id": "10c6ce79-ef3f-44bd-8544-1af606cd745b",
   "metadata": {},
   "outputs": [
    {
     "name": "stdout",
     "output_type": "stream",
     "text": [
      "2\n",
      "<class 'int'>\n"
     ]
    }
   ],
   "source": [
    "x= 2\n",
    "print(x)\n",
    "print(type(x))"
   ]
  },
  {
   "cell_type": "code",
   "execution_count": 11,
   "id": "84f66ba4-9aac-4b6b-86e5-64cbda79f20e",
   "metadata": {},
   "outputs": [
    {
     "name": "stdout",
     "output_type": "stream",
     "text": [
      "Variable   Type    Data/Info\n",
      "----------------------------\n",
      "X          str     a\n",
      "v          str     h\n",
      "x          int     2\n",
      "y          str     banana\n"
     ]
    }
   ],
   "source": [
    "%whos\n",
    "#to check hmne kitne variable bnaye h or unka tyype kya hai "
   ]
  },
  {
   "cell_type": "markdown",
   "id": "62d3f72a-4d22-4dfb-ac47-a0cbe833cdd4",
   "metadata": {},
   "source": [
    "# Operator"
   ]
  },
  {
   "cell_type": "markdown",
   "id": "36fdd116-fafe-44f7-963e-93df4e10fdb3",
   "metadata": {},
   "source": [
    "types of operator \n",
    " Arithmetic\n",
    " comparision\n",
    " logical -And ,or,not\n",
    " bitwise\n",
    " Assignment\n",
    " identity operator\n",
    " membership operator"
   ]
  },
  {
   "cell_type": "code",
   "execution_count": 12,
   "id": "c42060bc-d9b4-4d04-98eb-749d0ba15aa9",
   "metadata": {},
   "outputs": [
    {
     "name": "stdout",
     "output_type": "stream",
     "text": [
      "71162028433520217717099884851404495326786614148274137562533191244754226421072922193229393035406290047490322006127486170528820460414671897074184746917638236810663780872933871199771053029074871072046645088603300420278272474373361352870797685329285463690039885441075398107839063255747535400015566353549647882767414182717586010912021318113386679928289227315380064286145450539958069165193638416244911434618495833200180049949\n"
     ]
    }
   ],
   "source": [
    "#exponent\n",
    "a =41256789\n",
    "print(a**55)\n",
    "#power"
   ]
  },
  {
   "cell_type": "code",
   "execution_count": 14,
   "id": "0f5340e5-e849-4f32-aefb-6c620ac599e8",
   "metadata": {},
   "outputs": [
    {
     "data": {
      "text/plain": [
       "20637005.183908045"
      ]
     },
     "execution_count": 14,
     "metadata": {},
     "output_type": "execute_result"
    }
   ],
   "source": [
    "a = ((8922*2852)+(7821*222)-(25566*256)+(8281/87))\n",
    "a"
   ]
  },
  {
   "cell_type": "markdown",
   "id": "a6ffd573-c784-47e5-9a10-fc95c86aa125",
   "metadata": {},
   "source": [
    "# types of python function\n",
    "## built in functions\n",
    "## python Recursive function\n",
    "## python lambda function \n",
    "## user define function \n",
    "# why we need function -\n",
    "### because of its reusability -example calculator"
   ]
  },
  {
   "cell_type": "code",
   "execution_count": 15,
   "id": "29a349ca-87f6-4474-9b1f-57f2ccf8ce94",
   "metadata": {},
   "outputs": [
    {
     "name": "stdout",
     "output_type": "stream",
     "text": [
      "8.5\n"
     ]
    }
   ],
   "source": [
    "# buit in function\n",
    "#abs()\n",
    "x=abs(-8.5)\n",
    "print(x)\n",
    " "
   ]
  },
  {
   "cell_type": "code",
   "execution_count": 18,
   "id": "4e2bc11f-f729-463b-b44a-045fbcbbae9d",
   "metadata": {},
   "outputs": [
    {
     "data": {
      "text/plain": [
       "'0b1101'"
      ]
     },
     "execution_count": 18,
     "metadata": {},
     "output_type": "execute_result"
    }
   ],
   "source": [
    "# bin function binary\n",
    "x=bin(13)\n",
    "x\n"
   ]
  },
  {
   "cell_type": "code",
   "execution_count": 20,
   "id": "ad1bd189-7dfa-4166-83fc-93315bc3aebd",
   "metadata": {},
   "outputs": [
    {
     "data": {
      "text/plain": [
       "b'\\x00\\x00\\x00\\x00\\x00\\x00\\x00\\x00'"
      ]
     },
     "execution_count": 20,
     "metadata": {},
     "output_type": "execute_result"
    }
   ],
   "source": [
    "# bytes function \n",
    "x=bytes(8)\n",
    "x\n",
    "\n"
   ]
  },
  {
   "cell_type": "code",
   "execution_count": 25,
   "id": "cea4f7da-d4e0-4a5e-9410-841f94cf14c4",
   "metadata": {},
   "outputs": [
    {
     "data": {
      "text/plain": [
       "'a'"
      ]
     },
     "execution_count": 25,
     "metadata": {},
     "output_type": "execute_result"
    }
   ],
   "source": [
    "#chr function -used to find unique code of letter\n",
    "x= chr(97)\n",
    "x"
   ]
  },
  {
   "cell_type": "code",
   "execution_count": 26,
   "id": "d5d3e1df-c653-4088-b3f6-c336cb8e2342",
   "metadata": {},
   "outputs": [
    {
     "data": {
      "text/plain": [
       "(3+5j)"
      ]
     },
     "execution_count": 26,
     "metadata": {},
     "output_type": "execute_result"
    }
   ],
   "source": [
    "#Complex function\n",
    "x = complex(3,5)\n",
    "x"
   ]
  },
  {
   "cell_type": "code",
   "execution_count": 27,
   "id": "8d1d1411-5602-4e13-9337-c5ef6b3d7ea5",
   "metadata": {},
   "outputs": [
    {
     "data": {
      "text/plain": [
       "(2+0j)"
      ]
     },
     "execution_count": 27,
     "metadata": {},
     "output_type": "execute_result"
    }
   ],
   "source": [
    "x=complex(2)\n",
    "x"
   ]
  },
  {
   "cell_type": "code",
   "execution_count": 28,
   "id": "19d4b54b-3e18-4a38-aaf1-dbd51655ca8a",
   "metadata": {},
   "outputs": [
    {
     "data": {
      "text/plain": [
       "8.0"
      ]
     },
     "execution_count": 28,
     "metadata": {},
     "output_type": "execute_result"
    }
   ],
   "source": [
    "# flot function \n",
    "x=float(8)\n",
    "x"
   ]
  },
  {
   "cell_type": "code",
   "execution_count": 29,
   "id": "f7cb7bd3-e912-4f4a-a086-950986c41501",
   "metadata": {},
   "outputs": [],
   "source": [
    "# int function -complext numer can never be converted into int number \n"
   ]
  },
  {
   "cell_type": "markdown",
   "id": "5900b4e8-3931-4c44-9f3b-89ef5b1002d9",
   "metadata": {},
   "source": [
    "# help function \n"
   ]
  },
  {
   "cell_type": "code",
   "execution_count": 1,
   "id": "57cd5f18-b413-41e4-adbc-b1763f86d400",
   "metadata": {},
   "outputs": [
    {
     "name": "stdout",
     "output_type": "stream",
     "text": [
      "Help on class int in module builtins:\n",
      "\n",
      "class int(object)\n",
      " |  int([x]) -> integer\n",
      " |  int(x, base=10) -> integer\n",
      " |\n",
      " |  Convert a number or string to an integer, or return 0 if no arguments\n",
      " |  are given.  If x is a number, return x.__int__().  For floating point\n",
      " |  numbers, this truncates towards zero.\n",
      " |\n",
      " |  If x is not a number or if base is given, then x must be a string,\n",
      " |  bytes, or bytearray instance representing an integer literal in the\n",
      " |  given base.  The literal can be preceded by '+' or '-' and be surrounded\n",
      " |  by whitespace.  The base defaults to 10.  Valid bases are 0 and 2-36.\n",
      " |  Base 0 means to interpret the base from the string as an integer literal.\n",
      " |  >>> int('0b100', base=0)\n",
      " |  4\n",
      " |\n",
      " |  Built-in subclasses:\n",
      " |      bool\n",
      " |\n",
      " |  Methods defined here:\n",
      " |\n",
      " |  __abs__(self, /)\n",
      " |      abs(self)\n",
      " |\n",
      " |  __add__(self, value, /)\n",
      " |      Return self+value.\n",
      " |\n",
      " |  __and__(self, value, /)\n",
      " |      Return self&value.\n",
      " |\n",
      " |  __bool__(self, /)\n",
      " |      True if self else False\n",
      " |\n",
      " |  __ceil__(...)\n",
      " |      Ceiling of an Integral returns itself.\n",
      " |\n",
      " |  __divmod__(self, value, /)\n",
      " |      Return divmod(self, value).\n",
      " |\n",
      " |  __eq__(self, value, /)\n",
      " |      Return self==value.\n",
      " |\n",
      " |  __float__(self, /)\n",
      " |      float(self)\n",
      " |\n",
      " |  __floor__(...)\n",
      " |      Flooring an Integral returns itself.\n",
      " |\n",
      " |  __floordiv__(self, value, /)\n",
      " |      Return self//value.\n",
      " |\n",
      " |  __format__(self, format_spec, /)\n",
      " |      Convert to a string according to format_spec.\n",
      " |\n",
      " |  __ge__(self, value, /)\n",
      " |      Return self>=value.\n",
      " |\n",
      " |  __getattribute__(self, name, /)\n",
      " |      Return getattr(self, name).\n",
      " |\n",
      " |  __getnewargs__(self, /)\n",
      " |\n",
      " |  __gt__(self, value, /)\n",
      " |      Return self>value.\n",
      " |\n",
      " |  __hash__(self, /)\n",
      " |      Return hash(self).\n",
      " |\n",
      " |  __index__(self, /)\n",
      " |      Return self converted to an integer, if self is suitable for use as an index into a list.\n",
      " |\n",
      " |  __int__(self, /)\n",
      " |      int(self)\n",
      " |\n",
      " |  __invert__(self, /)\n",
      " |      ~self\n",
      " |\n",
      " |  __le__(self, value, /)\n",
      " |      Return self<=value.\n",
      " |\n",
      " |  __lshift__(self, value, /)\n",
      " |      Return self<<value.\n",
      " |\n",
      " |  __lt__(self, value, /)\n",
      " |      Return self<value.\n",
      " |\n",
      " |  __mod__(self, value, /)\n",
      " |      Return self%value.\n",
      " |\n",
      " |  __mul__(self, value, /)\n",
      " |      Return self*value.\n",
      " |\n",
      " |  __ne__(self, value, /)\n",
      " |      Return self!=value.\n",
      " |\n",
      " |  __neg__(self, /)\n",
      " |      -self\n",
      " |\n",
      " |  __or__(self, value, /)\n",
      " |      Return self|value.\n",
      " |\n",
      " |  __pos__(self, /)\n",
      " |      +self\n",
      " |\n",
      " |  __pow__(self, value, mod=None, /)\n",
      " |      Return pow(self, value, mod).\n",
      " |\n",
      " |  __radd__(self, value, /)\n",
      " |      Return value+self.\n",
      " |\n",
      " |  __rand__(self, value, /)\n",
      " |      Return value&self.\n",
      " |\n",
      " |  __rdivmod__(self, value, /)\n",
      " |      Return divmod(value, self).\n",
      " |\n",
      " |  __repr__(self, /)\n",
      " |      Return repr(self).\n",
      " |\n",
      " |  __rfloordiv__(self, value, /)\n",
      " |      Return value//self.\n",
      " |\n",
      " |  __rlshift__(self, value, /)\n",
      " |      Return value<<self.\n",
      " |\n",
      " |  __rmod__(self, value, /)\n",
      " |      Return value%self.\n",
      " |\n",
      " |  __rmul__(self, value, /)\n",
      " |      Return value*self.\n",
      " |\n",
      " |  __ror__(self, value, /)\n",
      " |      Return value|self.\n",
      " |\n",
      " |  __round__(...)\n",
      " |      Rounding an Integral returns itself.\n",
      " |\n",
      " |      Rounding with an ndigits argument also returns an integer.\n",
      " |\n",
      " |  __rpow__(self, value, mod=None, /)\n",
      " |      Return pow(value, self, mod).\n",
      " |\n",
      " |  __rrshift__(self, value, /)\n",
      " |      Return value>>self.\n",
      " |\n",
      " |  __rshift__(self, value, /)\n",
      " |      Return self>>value.\n",
      " |\n",
      " |  __rsub__(self, value, /)\n",
      " |      Return value-self.\n",
      " |\n",
      " |  __rtruediv__(self, value, /)\n",
      " |      Return value/self.\n",
      " |\n",
      " |  __rxor__(self, value, /)\n",
      " |      Return value^self.\n",
      " |\n",
      " |  __sizeof__(self, /)\n",
      " |      Returns size in memory, in bytes.\n",
      " |\n",
      " |  __sub__(self, value, /)\n",
      " |      Return self-value.\n",
      " |\n",
      " |  __truediv__(self, value, /)\n",
      " |      Return self/value.\n",
      " |\n",
      " |  __trunc__(...)\n",
      " |      Truncating an Integral returns itself.\n",
      " |\n",
      " |  __xor__(self, value, /)\n",
      " |      Return self^value.\n",
      " |\n",
      " |  as_integer_ratio(self, /)\n",
      " |      Return a pair of integers, whose ratio is equal to the original int.\n",
      " |\n",
      " |      The ratio is in lowest terms and has a positive denominator.\n",
      " |\n",
      " |      >>> (10).as_integer_ratio()\n",
      " |      (10, 1)\n",
      " |      >>> (-10).as_integer_ratio()\n",
      " |      (-10, 1)\n",
      " |      >>> (0).as_integer_ratio()\n",
      " |      (0, 1)\n",
      " |\n",
      " |  bit_count(self, /)\n",
      " |      Number of ones in the binary representation of the absolute value of self.\n",
      " |\n",
      " |      Also known as the population count.\n",
      " |\n",
      " |      >>> bin(13)\n",
      " |      '0b1101'\n",
      " |      >>> (13).bit_count()\n",
      " |      3\n",
      " |\n",
      " |  bit_length(self, /)\n",
      " |      Number of bits necessary to represent self in binary.\n",
      " |\n",
      " |      >>> bin(37)\n",
      " |      '0b100101'\n",
      " |      >>> (37).bit_length()\n",
      " |      6\n",
      " |\n",
      " |  conjugate(...)\n",
      " |      Returns self, the complex conjugate of any int.\n",
      " |\n",
      " |  is_integer(self, /)\n",
      " |      Returns True. Exists for duck type compatibility with float.is_integer.\n",
      " |\n",
      " |  to_bytes(self, /, length=1, byteorder='big', *, signed=False)\n",
      " |      Return an array of bytes representing an integer.\n",
      " |\n",
      " |      length\n",
      " |        Length of bytes object to use.  An OverflowError is raised if the\n",
      " |        integer is not representable with the given number of bytes.  Default\n",
      " |        is length 1.\n",
      " |      byteorder\n",
      " |        The byte order used to represent the integer.  If byteorder is 'big',\n",
      " |        the most significant byte is at the beginning of the byte array.  If\n",
      " |        byteorder is 'little', the most significant byte is at the end of the\n",
      " |        byte array.  To request the native byte order of the host system, use\n",
      " |        `sys.byteorder' as the byte order value.  Default is to use 'big'.\n",
      " |      signed\n",
      " |        Determines whether two's complement is used to represent the integer.\n",
      " |        If signed is False and a negative integer is given, an OverflowError\n",
      " |        is raised.\n",
      " |\n",
      " |  ----------------------------------------------------------------------\n",
      " |  Class methods defined here:\n",
      " |\n",
      " |  from_bytes(bytes, byteorder='big', *, signed=False) from builtins.type\n",
      " |      Return the integer represented by the given array of bytes.\n",
      " |\n",
      " |      bytes\n",
      " |        Holds the array of bytes to convert.  The argument must either\n",
      " |        support the buffer protocol or be an iterable object producing bytes.\n",
      " |        Bytes and bytearray are examples of built-in objects that support the\n",
      " |        buffer protocol.\n",
      " |      byteorder\n",
      " |        The byte order used to represent the integer.  If byteorder is 'big',\n",
      " |        the most significant byte is at the beginning of the byte array.  If\n",
      " |        byteorder is 'little', the most significant byte is at the end of the\n",
      " |        byte array.  To request the native byte order of the host system, use\n",
      " |        `sys.byteorder' as the byte order value.  Default is to use 'big'.\n",
      " |      signed\n",
      " |        Indicates whether two's complement is used to represent the integer.\n",
      " |\n",
      " |  ----------------------------------------------------------------------\n",
      " |  Static methods defined here:\n",
      " |\n",
      " |  __new__(*args, **kwargs) from builtins.type\n",
      " |      Create and return a new object.  See help(type) for accurate signature.\n",
      " |\n",
      " |  ----------------------------------------------------------------------\n",
      " |  Data descriptors defined here:\n",
      " |\n",
      " |  denominator\n",
      " |      the denominator of a rational number in lowest terms\n",
      " |\n",
      " |  imag\n",
      " |      the imaginary part of a complex number\n",
      " |\n",
      " |  numerator\n",
      " |      the numerator of a rational number in lowest terms\n",
      " |\n",
      " |  real\n",
      " |      the real part of a complex number\n",
      "\n"
     ]
    }
   ],
   "source": [
    "help(int)"
   ]
  },
  {
   "cell_type": "code",
   "execution_count": 2,
   "id": "e2dc3b89-5f36-4039-9312-d87917d4273e",
   "metadata": {},
   "outputs": [
    {
     "name": "stdin",
     "output_type": "stream",
     "text": [
      "enter number 5\n"
     ]
    },
    {
     "data": {
      "text/plain": [
       "5"
      ]
     },
     "execution_count": 2,
     "metadata": {},
     "output_type": "execute_result"
    }
   ],
   "source": [
    "# input \n",
    "a = int(input(\"enter number\"))\n",
    "a"
   ]
  },
  {
   "cell_type": "code",
   "execution_count": 34,
   "id": "be260cc2-31c1-445e-a7c7-01cd5707028f",
   "metadata": {},
   "outputs": [
    {
     "name": "stdin",
     "output_type": "stream",
     "text": [
      " ggg\n"
     ]
    },
    {
     "data": {
      "text/plain": [
       "'ggg'"
      ]
     },
     "execution_count": 34,
     "metadata": {},
     "output_type": "execute_result"
    }
   ],
   "source": [
    "a = str(input(\"\"))\n",
    "a"
   ]
  },
  {
   "cell_type": "markdown",
   "id": "0935c371-d092-4ae7-9ab1-b62553d3d7c1",
   "metadata": {},
   "source": [
    "# control flow statement"
   ]
  },
  {
   "cell_type": "code",
   "execution_count": 35,
   "id": "22fe5cc6-8627-4af5-8824-589c7f2080a6",
   "metadata": {},
   "outputs": [],
   "source": [
    "#  conditional statement = if,if-else,ei-elif-else,nested if else\n",
    "#transfer statement break,continue,pass\n",
    "#iterative statements = for ,while "
   ]
  },
  {
   "cell_type": "code",
   "execution_count": 41,
   "id": "d7846fca-fae0-4bb7-8591-8579da994112",
   "metadata": {},
   "outputs": [
    {
     "name": "stdin",
     "output_type": "stream",
     "text": [
      "enter your age mere bhai or behnoo 2\n"
     ]
    },
    {
     "name": "stdout",
     "output_type": "stream",
     "text": [
      "nabalik\n"
     ]
    }
   ],
   "source": [
    "x = int(input(\"enter your age mere bhai or behnoo\"))\n",
    "if x>=18:\n",
    "    print(\"balik\")\n",
    "else:\n",
    "    print(\"nabalik\")\n",
    "    "
   ]
  },
  {
   "cell_type": "code",
   "execution_count": 46,
   "id": "376873c3-4f41-4aef-adc7-1fb727161241",
   "metadata": {},
   "outputs": [
    {
     "name": "stdin",
     "output_type": "stream",
     "text": [
      "Enter name of student 88\n",
      "Enter marks of english 99\n",
      "Enter marks of hindi 88\n",
      "Enter marks of maths  99\n",
      "Enter marks of science 99\n",
      "Enter marks of social science 88\n"
     ]
    },
    {
     "name": "stdout",
     "output_type": "stream",
     "text": [
      "percentage = 94.6\n",
      "grade A\n"
     ]
    }
   ],
   "source": [
    "#student result program \n",
    "x = int(input(\"Enter name of student\"))\n",
    "a = int(input(\"Enter marks of english\"))\n",
    "b = int(input(\"Enter marks of hindi\"))\n",
    "c = int(input(\"Enter marks of maths \"))\n",
    "d = int(input(\"Enter marks of science\"))\n",
    "e = int(input(\"Enter marks of social science\"))\n",
    "\n",
    "n = ((a+b+c+d+e)/500)*100\n",
    "print(\"percentage =\",n)\n",
    "if n>=90:\n",
    "    print(\"grade A\")\n",
    "elif n>=75 and n<90:\n",
    "    print(\"B grade\")\n",
    "elif n>=50 and n<75:\n",
    "    print(\"c grade\")\n",
    "else:\n",
    "    print(\"D grade\")"
   ]
  },
  {
   "cell_type": "code",
   "execution_count": 50,
   "id": "6723942a-6c75-4c68-88b6-51b4acbc7661",
   "metadata": {},
   "outputs": [
    {
     "name": "stdin",
     "output_type": "stream",
     "text": [
      "enter any number  11\n"
     ]
    },
    {
     "name": "stdout",
     "output_type": "stream",
     "text": [
      "bye\n"
     ]
    }
   ],
   "source": [
    "#write a program to print hello if num is multiple by 5 else print bhgg\n",
    "n = int(input(\"enter any number \"))\n",
    "if n%5==0:\n",
    "    print(\"hello\")\n",
    "else:\n",
    "    print(\"bye\")"
   ]
  },
  {
   "cell_type": "markdown",
   "id": "b91453ef-0a7a-43e9-99b0-b215ef313cfc",
   "metadata": {},
   "source": [
    "## function is a reusable block of prog statement designd to perform a certain task \n",
    "### def keyword():"
   ]
  },
  {
   "cell_type": "code",
   "execution_count": 55,
   "id": "30cec229-f9dc-4589-a41b-296503e01070",
   "metadata": {},
   "outputs": [
    {
     "name": "stdout",
     "output_type": "stream",
     "text": [
      "hello class\n"
     ]
    }
   ],
   "source": [
    "def my_fun():\n",
    "    print(\"hello class\")\n",
    "my_fun()"
   ]
  },
  {
   "cell_type": "code",
   "execution_count": 63,
   "id": "8fd436ea-2deb-4bef-ae50-ccece51c5ef6",
   "metadata": {},
   "outputs": [
    {
     "name": "stdin",
     "output_type": "stream",
     "text": [
      "enter name of student aman\n",
      "enter marks of science 44\n",
      "enter marks of social  55\n"
     ]
    },
    {
     "name": "stdout",
     "output_type": "stream",
     "text": [
      " \n",
      "Contact details of the school\n",
      "delhi public school\n",
      "indore\n",
      "9109853956\n",
      "gps@email.com\n"
     ]
    },
    {
     "name": "stdin",
     "output_type": "stream",
     "text": [
      "enter name of student ap\n",
      "enter marks of science 55\n",
      "enter marks of social  66\n"
     ]
    },
    {
     "name": "stdout",
     "output_type": "stream",
     "text": [
      " \n",
      "Contact details of the school\n",
      "delhi public school\n",
      "indore\n",
      "9109853956\n",
      "gps@email.com\n"
     ]
    },
    {
     "name": "stdin",
     "output_type": "stream",
     "text": [
      "enter name of student kk\n",
      "enter marks of science 55\n",
      "enter marks of social  5\n"
     ]
    },
    {
     "name": "stdout",
     "output_type": "stream",
     "text": [
      " \n",
      "Contact details of the school\n",
      "delhi public school\n",
      "indore\n",
      "9109853956\n",
      "gps@email.com\n"
     ]
    },
    {
     "name": "stdin",
     "output_type": "stream",
     "text": [
      "enter name of student gg\n",
      "enter marks of science 88\n",
      "enter marks of social  88\n"
     ]
    },
    {
     "name": "stdout",
     "output_type": "stream",
     "text": [
      " \n",
      "Contact details of the school\n",
      "delhi public school\n",
      "indore\n",
      "9109853956\n",
      "gps@email.com\n"
     ]
    }
   ],
   "source": [
    "def contact():\n",
    "    print(\"Contact details of the school\")\n",
    "    print(\"delhi public school\")\n",
    "    print(\"indore\")\n",
    "    print(\"9109853956\")\n",
    "    print(\"gps@email.com\")\n",
    "for i in range(4):\n",
    "    n = input(\"enter name of student\")\n",
    "    a = int(input(\"enter marks of science\"))\n",
    "    c = int(input(\"enter marks of social \"))\n",
    "    print(\" \")\n",
    "    contact()\n",
    "    \n",
    "    "
   ]
  },
  {
   "cell_type": "code",
   "execution_count": 72,
   "id": "2c6d7768-ee71-44b6-aaeb-4dc0facd8710",
   "metadata": {},
   "outputs": [
    {
     "name": "stdout",
     "output_type": "stream",
     "text": [
      "Aman sharma\n",
      "pp sharma\n"
     ]
    }
   ],
   "source": [
    "# arguments \n",
    "def my_func(Fname):\n",
    "    print(Fname+ \" \"+\"sharma\")\n",
    "my_func(\"Aman\")\n",
    "my_func(\"pp\")\n"
   ]
  },
  {
   "cell_type": "code",
   "execution_count": 73,
   "id": "e2b0f749-c2cc-4b2c-ac9e-1ad3de7703e4",
   "metadata": {},
   "outputs": [
    {
     "name": "stdout",
     "output_type": "stream",
     "text": [
      "aman patidar\n"
     ]
    }
   ],
   "source": [
    "def my_func(fname,lname):\n",
    "    print(fname +\" \"+ lname)\n",
    "my_func(\"aman\", \"patidar\")"
   ]
  },
  {
   "cell_type": "code",
   "execution_count": 77,
   "id": "2fd8642b-4acd-4fba-beef-c9e80030807c",
   "metadata": {},
   "outputs": [
    {
     "name": "stdin",
     "output_type": "stream",
     "text": [
      "enter name of customer Aman\n",
      "enter unit used  23\n"
     ]
    },
    {
     "name": "stdout",
     "output_type": "stream",
     "text": [
      "your bill is rs 115\n",
      "last day of paying bill is 20 april\n",
      "after 20 april you need to pay 5 Rs extra for each unit\n",
      "Electricity Office Indore\n"
     ]
    },
    {
     "name": "stdin",
     "output_type": "stream",
     "text": [
      "enter name of customer Serii\n",
      "enter unit used  4489\n"
     ]
    },
    {
     "name": "stdout",
     "output_type": "stream",
     "text": [
      "your bill is Rs 89780\n",
      "last day of paying bill is 20 april\n",
      "after 20 april you need to pay 5 Rs extra for each unit\n",
      "Electricity Office Indore\n"
     ]
    }
   ],
   "source": [
    "#write a prog to calculate electricity bill\n",
    "def e(n):\n",
    "    if n<=500:\n",
    "        print(\"your bill is rs\",n*5)\n",
    "    elif(n>=500 and n<=700):\n",
    "        print(\"your bill of Rs\",n*7)\n",
    "    elif(n>700 and n<1000):\n",
    "        print(\"your bill is Rs\",n*15)\n",
    "    elif(n>1000):\n",
    "        print(\"your bill is Rs\",n*20)\n",
    "    else:\n",
    "        print(\"bill error\")\n",
    "def inst():\n",
    "    print(\"last day of paying bill is 20 april\")\n",
    "    print(\"after 20 april you need to pay 5 Rs extra for each unit\")\n",
    "    print(\"Electricity Office Indore\")\n",
    "        \n",
    "\n",
    "for i in range(2):\n",
    "    a= input(\"enter name of customer\")\n",
    "    n= int(input(\"enter unit used \"))\n",
    "    e(n)\n",
    "    inst()\n"
   ]
  },
  {
   "cell_type": "markdown",
   "id": "727947a1-ceef-4229-bb3f-4b39d306b69b",
   "metadata": {},
   "source": [
    "# strings\n",
    "### string is a collection of character in python that represents a sequence of character .it is immutable data tupe"
   ]
  },
  {
   "cell_type": "code",
   "execution_count": 78,
   "id": "a1bc5677-81d3-4c20-b9be-ba4057c97785",
   "metadata": {},
   "outputs": [
    {
     "name": "stdout",
     "output_type": "stream",
     "text": [
      "saregamapa\n"
     ]
    }
   ],
   "source": [
    "# chr surounded by single or double quotes \n",
    "a = \"saregamapa\"\n",
    "print(a)"
   ]
  },
  {
   "cell_type": "code",
   "execution_count": 82,
   "id": "68a06ad2-000d-421a-82cd-dee036efbfe2",
   "metadata": {},
   "outputs": [
    {
     "name": "stdout",
     "output_type": "stream",
     "text": [
      "a\n"
     ]
    }
   ],
   "source": [
    "a = \"saregamapa\"\n",
    "print(a[1])"
   ]
  },
  {
   "cell_type": "markdown",
   "id": "ac43d42f-45ce-4612-b042-072526bd1198",
   "metadata": {},
   "source": [
    "# multiline comments\n",
    "## \"\"\"     \"\"\""
   ]
  },
  {
   "cell_type": "code",
   "execution_count": 87,
   "id": "fb2c41db-d18d-471d-afed-a59405ca182a",
   "metadata": {},
   "outputs": [
    {
     "data": {
      "text/plain": [
       "'asdsfddfgrf degergtrh hrthrtg efwee adsdgf ff sggfhrb bfghghfg dfgef sdfe gdfgsd asdf gsd fdfh rhd fbdfhr gdcvdf gfg dfvdf gerg dfvdg hrgfd rh tyhe fgdfh rf asffdh eff cnfg fasd sdg dfg bfgn hhr df ngh hjrg dfvgf ngh thtrg dfb fgh ggh dfg fg'"
      ]
     },
     "execution_count": 87,
     "metadata": {},
     "output_type": "execute_result"
    }
   ],
   "source": [
    "b= \"asdsfddfgrf degergtrh hrthrtg efwee adsdgf ff sggfhrb bfghghfg dfgef sdfe gdfgsd asdf gsd fdfh rhd fbdfhr gdcvdf gfg dfvdf gerg dfvdg hrgfd rh tyhe fgdfh rf asffdh eff cnfg fasd sdg dfg bfgn hhr df ngh hjrg dfvgf ngh thtrg dfb fgh ggh dfg fg\"\n",
    "b"
   ]
  },
  {
   "cell_type": "code",
   "execution_count": 89,
   "id": "97c0697c-9387-4358-a530-4ba2f60b82be",
   "metadata": {},
   "outputs": [
    {
     "data": {
      "text/plain": [
       "'asdsfddfgrf\\ndegergtrh hrthrtg efwee \\nadsdgf ff sggfhrb bfghghfg dfgef sdfe gdfgsd asdf gsd fdfh\\nrhd fbdfhr gdcvdf gfg dfvdf gerg dfvdg hrgfd rh tyhe fgdfh rf asffdh\\neff cnfg fasd sdg dfg bfgn hhr df ngh hjrg dfvgf ngh thtrg dfb fgh ggh\\ndfg fg'"
      ]
     },
     "execution_count": 89,
     "metadata": {},
     "output_type": "execute_result"
    }
   ],
   "source": [
    "a = \"\"\"asdsfddfgrf\n",
    "degergtrh hrthrtg efwee \n",
    "adsdgf ff sggfhrb bfghghfg dfgef sdfe gdfgsd asdf gsd fdfh\n",
    "rhd fbdfhr gdcvdf gfg dfvdf gerg dfvdg hrgfd rh tyhe fgdfh rf asffdh\n",
    "eff cnfg fasd sdg dfg bfgn hhr df ngh hjrg dfvgf ngh thtrg dfb fgh ggh\n",
    "dfg fg\"\"\"\n",
    "a"
   ]
  },
  {
   "cell_type": "markdown",
   "id": "76ef4571-4ea6-4e16-8871-067b1091d237",
   "metadata": {},
   "source": [
    "# index"
   ]
  },
  {
   "cell_type": "code",
   "execution_count": 92,
   "id": "0b4ca779-d909-4291-90c3-4c2f61fdaa2f",
   "metadata": {},
   "outputs": [
    {
     "name": "stdout",
     "output_type": "stream",
     "text": [
      " \n"
     ]
    }
   ],
   "source": [
    "n = \"Aman patidar\"\n",
    "#print(n[1])\n",
    "print(n[4])"
   ]
  },
  {
   "cell_type": "code",
   "execution_count": 93,
   "id": "5ee8e54f-5e03-450d-ad91-7f3decb26a1c",
   "metadata": {},
   "outputs": [
    {
     "name": "stdout",
     "output_type": "stream",
     "text": [
      "a\n"
     ]
    }
   ],
   "source": [
    "print(n[-6])"
   ]
  },
  {
   "cell_type": "code",
   "execution_count": 94,
   "id": "66773742-6983-4197-aeb6-bcdd6d325d3f",
   "metadata": {},
   "outputs": [],
   "source": [
    "#Space ka bhi index hota hai bhai..!"
   ]
  },
  {
   "cell_type": "markdown",
   "id": "54689ae5-4173-4482-9f37-e35f34c2873e",
   "metadata": {},
   "source": [
    "# Slicing\n",
    "## [start:end:step]"
   ]
  },
  {
   "cell_type": "code",
   "execution_count": 97,
   "id": "38d56acb-f6e0-4523-978f-cef9c5f01746",
   "metadata": {},
   "outputs": [
    {
     "name": "stdout",
     "output_type": "stream",
     "text": [
      "ma\n",
      "mnptd\n"
     ]
    }
   ],
   "source": [
    "print(n[1:3])\n",
    "print(n[1:11:2])\n"
   ]
  },
  {
   "cell_type": "code",
   "execution_count": 98,
   "id": "c615be97-b1c2-4b9f-bb15-f435adbb26c7",
   "metadata": {},
   "outputs": [
    {
     "name": "stdout",
     "output_type": "stream",
     "text": [
      "raditap namA\n"
     ]
    }
   ],
   "source": [
    "# Reverse\n",
    "print(n[::-1])"
   ]
  },
  {
   "cell_type": "code",
   "execution_count": 100,
   "id": "4d905543-dca2-4959-9e98-a32c0e91bf40",
   "metadata": {},
   "outputs": [
    {
     "name": "stdout",
     "output_type": "stream",
     "text": [
      "12\n"
     ]
    }
   ],
   "source": [
    "#length of string\n",
    "print(len(n))"
   ]
  },
  {
   "cell_type": "code",
   "execution_count": 103,
   "id": "76239b71-068b-4f59-b173-15c97943a047",
   "metadata": {},
   "outputs": [
    {
     "name": "stdout",
     "output_type": "stream",
     "text": [
      "AMAN PATIDAR\n"
     ]
    }
   ],
   "source": [
    "# upper method\n",
    "print(n.upper())"
   ]
  },
  {
   "cell_type": "code",
   "execution_count": 104,
   "id": "19d08dc2-90aa-4570-a3e8-27a62f59813f",
   "metadata": {},
   "outputs": [
    {
     "name": "stdout",
     "output_type": "stream",
     "text": [
      "aman patidar\n"
     ]
    }
   ],
   "source": [
    "#lower method\n",
    "print(n.lower())"
   ]
  },
  {
   "cell_type": "code",
   "execution_count": 112,
   "id": "db75a7b3-1222-473f-b72a-d09a6d82e0c8",
   "metadata": {},
   "outputs": [
    {
     "name": "stdout",
     "output_type": "stream",
     "text": [
      "hellow is are you\n"
     ]
    }
   ],
   "source": [
    "#replace \n",
    "p = \"hellow how are you\"\n",
    "q=p.replace(\"how\" , \"is\")\n",
    "print(q)"
   ]
  },
  {
   "cell_type": "code",
   "execution_count": 113,
   "id": "33feb650-0250-4c9e-bdea-70d9da91259d",
   "metadata": {},
   "outputs": [
    {
     "name": "stdout",
     "output_type": "stream",
     "text": [
      "hellow how are Aman\n"
     ]
    }
   ],
   "source": [
    "print(p.replace(\"you\" , \"Aman\"))"
   ]
  },
  {
   "cell_type": "code",
   "execution_count": 120,
   "id": "f25f0308-ab2b-4e8e-8bd1-3b4c4876ca12",
   "metadata": {},
   "outputs": [
    {
     "data": {
      "text/plain": [
       "2"
      ]
     },
     "execution_count": 120,
     "metadata": {},
     "output_type": "execute_result"
    }
   ],
   "source": [
    "# find Method\n",
    "a = \"python is great\"\n",
    "b=a.find(\"\")\n",
    "b\n"
   ]
  },
  {
   "cell_type": "markdown",
   "id": "f21a899f-3412-4607-8e93-bb4f0ad5e9aa",
   "metadata": {},
   "source": [
    "# list\n",
    "### list are used to store multiple items in a single variable\n",
    "### list are the one of four data type in python\n",
    "### A single list may contain Data type like int ,float,str as well as obj \n",
    "## list are mutable\n",
    "## list item are ORDERED,CHANGABLE,AND ALLOW DUPLICATE\n",
    "# a=[]"
   ]
  },
  {
   "cell_type": "code",
   "execution_count": 6,
   "id": "d01d4a32-0260-40f4-977f-1ba16ba79d49",
   "metadata": {},
   "outputs": [
    {
     "name": "stdout",
     "output_type": "stream",
     "text": [
      "['apple', 'banana', 'mango', 'mango']\n",
      "<class 'list'>\n"
     ]
    }
   ],
   "source": [
    "a=[\"apple\",\"banana\",\"mango\",\"mango\"]\n",
    "print(a)\n",
    "print(type(a))"
   ]
  },
  {
   "cell_type": "code",
   "execution_count": 10,
   "id": "092a5672-a309-4ac0-82cc-855d1d404f11",
   "metadata": {},
   "outputs": [
    {
     "name": "stdout",
     "output_type": "stream",
     "text": [
      "[2, 'aman', 4.5, 'serii', True]\n",
      "<class 'list'>\n"
     ]
    }
   ],
   "source": [
    " c = [2,\"aman\",4.5,\"serii\",True]\n",
    "print(c)\n",
    "print(type(c))"
   ]
  },
  {
   "cell_type": "markdown",
   "id": "3c4ec11d-6871-476a-b297-3dff89a796da",
   "metadata": {},
   "source": [
    "print(c.len())"
   ]
  },
  {
   "cell_type": "code",
   "execution_count": 12,
   "id": "1f30f343-2c92-47ad-8de6-fa9dc414841e",
   "metadata": {},
   "outputs": [
    {
     "name": "stdout",
     "output_type": "stream",
     "text": [
      "5\n"
     ]
    }
   ],
   "source": [
    "print(len(c))"
   ]
  },
  {
   "cell_type": "code",
   "execution_count": 2,
   "id": "deb9e1bb-f571-4137-9ac7-8a987328c20f",
   "metadata": {},
   "outputs": [
    {
     "name": "stdout",
     "output_type": "stream",
     "text": [
      "10\n"
     ]
    }
   ],
   "source": [
    "b=[15,8,9,3,4,6,7,8,9,25]\n",
    "print(len(b))"
   ]
  },
  {
   "cell_type": "code",
   "execution_count": 3,
   "id": "a6dcf279-3998-4af5-a7f5-4ab9f49b0e39",
   "metadata": {},
   "outputs": [
    {
     "name": "stdout",
     "output_type": "stream",
     "text": [
      "3\n"
     ]
    }
   ],
   "source": [
    "#acces \n",
    "print(b[3])"
   ]
  },
  {
   "cell_type": "code",
   "execution_count": 4,
   "id": "19196c7b-4df8-4c42-9480-8eb3bba7643a",
   "metadata": {},
   "outputs": [
    {
     "name": "stdout",
     "output_type": "stream",
     "text": [
      "9\n"
     ]
    }
   ],
   "source": [
    "print(b[-2])"
   ]
  },
  {
   "cell_type": "code",
   "execution_count": 8,
   "id": "b94c23de-89e7-44b9-9cbf-03f04f20813c",
   "metadata": {},
   "outputs": [
    {
     "name": "stdout",
     "output_type": "stream",
     "text": [
      "[15, 9, 4, 7, 9]\n"
     ]
    }
   ],
   "source": [
    "#slicing\n",
    "print(b[0:10:2])"
   ]
  },
  {
   "cell_type": "code",
   "execution_count": 9,
   "id": "fc197a29-2ace-4b35-a68d-1fe2f9d9de6d",
   "metadata": {},
   "outputs": [
    {
     "name": "stdout",
     "output_type": "stream",
     "text": [
      "[15, 8, 9, 3, 4, 6, 7, 8, 9, 25]\n"
     ]
    }
   ],
   "source": [
    "print(b[0:10])"
   ]
  },
  {
   "cell_type": "code",
   "execution_count": 10,
   "id": "7bf7ddf2-b5c8-4360-b320-4b4d81199aaf",
   "metadata": {},
   "outputs": [
    {
     "name": "stdout",
     "output_type": "stream",
     "text": [
      "[3, 4, 6, 7, 8, 9]\n"
     ]
    }
   ],
   "source": [
    "print(b[3:9])"
   ]
  },
  {
   "cell_type": "code",
   "execution_count": 12,
   "id": "51f8e1ec-693f-4f08-84c9-e8e604d665ea",
   "metadata": {},
   "outputs": [
    {
     "name": "stdout",
     "output_type": "stream",
     "text": [
      "['aman', 'patidar', 4, 4.6]\n"
     ]
    }
   ],
   "source": [
    "# change items \n",
    "l=[\"aman\",True,4,4.6]\n",
    "l[1]=\"patidar\"\n",
    "print(l)"
   ]
  },
  {
   "cell_type": "code",
   "execution_count": 13,
   "id": "3470f35d-1c62-4730-927e-84436fc55fba",
   "metadata": {},
   "outputs": [
    {
     "data": {
      "text/plain": [
       "['aman', 'patidar', 4, 56]"
      ]
     },
     "execution_count": 13,
     "metadata": {},
     "output_type": "execute_result"
    }
   ],
   "source": [
    "l[3]=56\n",
    "l"
   ]
  },
  {
   "cell_type": "code",
   "execution_count": 14,
   "id": "e4109c6c-c8c0-4a9d-b489-255032d3b485",
   "metadata": {},
   "outputs": [
    {
     "data": {
      "text/plain": [
       "['aman', 'patidar', 'book', 'pen', 6]"
      ]
     },
     "execution_count": 14,
     "metadata": {},
     "output_type": "execute_result"
    }
   ],
   "source": [
    "#Change the range\n",
    "l[2:4]=[\"book\",\"pen\",6]\n",
    "l"
   ]
  },
  {
   "cell_type": "code",
   "execution_count": 15,
   "id": "67f080ad-679c-498d-a561-29ff9dee39ea",
   "metadata": {},
   "outputs": [
    {
     "data": {
      "text/plain": [
       "['aman', 'patidar', 'book', 'pen', 6, 99]"
      ]
     },
     "execution_count": 15,
     "metadata": {},
     "output_type": "execute_result"
    }
   ],
   "source": [
    "#ADD ELEMENT IN LIST\n",
    "l.append(99)\n",
    "l"
   ]
  },
  {
   "cell_type": "code",
   "execution_count": 17,
   "id": "f17be877-9bea-4dde-9f43-255ff6803c7b",
   "metadata": {},
   "outputs": [
    {
     "data": {
      "text/plain": [
       "['aman', 'patidar', 'pen', 6, 99]"
      ]
     },
     "execution_count": 17,
     "metadata": {},
     "output_type": "execute_result"
    }
   ],
   "source": [
    "#remove\n",
    "l.remove(\"book\")\n",
    "l"
   ]
  },
  {
   "cell_type": "code",
   "execution_count": 19,
   "id": "454f02ec-a24f-4d30-84d7-bae8bc67ca34",
   "metadata": {},
   "outputs": [
    {
     "name": "stdout",
     "output_type": "stream",
     "text": [
      "[99, 6, 'pen', 'patidar', 'aman']\n"
     ]
    },
    {
     "data": {
      "text/plain": [
       "['aman', 'patidar', 'pen', 6, 99]"
      ]
     },
     "execution_count": 19,
     "metadata": {},
     "output_type": "execute_result"
    }
   ],
   "source": [
    "#REVERSE\n",
    "print(l[::-1])\n",
    "l.reverse\n",
    "l"
   ]
  },
  {
   "cell_type": "code",
   "execution_count": 21,
   "id": "db28dced-9dba-48d8-810c-63777689b0ea",
   "metadata": {},
   "outputs": [
    {
     "name": "stdout",
     "output_type": "stream",
     "text": [
      "10\n",
      "sum of the all elements in the list are= 55\n"
     ]
    }
   ],
   "source": [
    "#summ of all element in the list\n",
    "l=[1,2,3,4,5,6,7,8,9,10]\n",
    "print(len(l))\n",
    "a=0\n",
    "for i in range(10):\n",
    "    a=a+l[i]\n",
    "    i=i+1\n",
    "print(\"sum of the all elements in the list are=\",a)"
   ]
  },
  {
   "cell_type": "code",
   "execution_count": 26,
   "id": "8782314e-0474-4f70-bef3-6a9a1959dca8",
   "metadata": {},
   "outputs": [
    {
     "name": "stdout",
     "output_type": "stream",
     "text": [
      "10\n",
      "multiplication answer is= 3628800\n"
     ]
    }
   ],
   "source": [
    "#multiply of all the number in the list \n",
    "l = [1,2,3,4,5,6,7,8,9,10]\n",
    "print(len(l))\n",
    "a=1\n",
    "for i in range(10):\n",
    "    a=a*l[i]\n",
    "    i=i+1\n",
    "print(\"multiplication answer is=\",a)   \n",
    "    "
   ]
  },
  {
   "cell_type": "markdown",
   "id": "276ca73c-15ef-430d-b83f-2c738d139446",
   "metadata": {},
   "source": [
    "# tuple"
   ]
  },
  {
   "cell_type": "markdown",
   "id": "6b2bc34b-3641-4d59-b048-6c1500d863e2",
   "metadata": {},
   "source": [
    "### Tuple is used to stroe multiple itemsin a single variable \n",
    "#### Tuple is collection of object seperated by comma,\n",
    "### We cannot change the elements of tuple once it assigned\n",
    "## IMMUTABLE\n",
    "## represented by ()\n",
    "## Tuple are ordered,unchangable,and allow duplicate value\n"
   ]
  },
  {
   "cell_type": "code",
   "execution_count": 29,
   "id": "1b374a3e-7595-4442-bb8e-876f572dbae1",
   "metadata": {},
   "outputs": [
    {
     "name": "stdout",
     "output_type": "stream",
     "text": [
      "<class 'tuple'>\n"
     ]
    },
    {
     "data": {
      "text/plain": [
       "(1, 'aman', 'patidar', True, 66, 33, 'str')"
      ]
     },
     "execution_count": 29,
     "metadata": {},
     "output_type": "execute_result"
    }
   ],
   "source": [
    "t=(1,\"aman\",\"patidar\",True,66,33,\"str\")\n",
    "print(type(t))\n",
    "t"
   ]
  },
  {
   "cell_type": "code",
   "execution_count": 30,
   "id": "4d659df2-31e4-437b-8f30-1b658d950e84",
   "metadata": {},
   "outputs": [
    {
     "data": {
      "text/plain": [
       "()"
      ]
     },
     "execution_count": 30,
     "metadata": {},
     "output_type": "execute_result"
    }
   ],
   "source": [
    "#empty tuple]\n",
    "p=()\n",
    "p\n"
   ]
  },
  {
   "cell_type": "code",
   "execution_count": 31,
   "id": "16763c44-9b16-4e2b-845b-bfc35b771de2",
   "metadata": {},
   "outputs": [
    {
     "data": {
      "text/plain": [
       "(1, 'aman', 'patidar', True, 66, 33, 'str', [1, 2, 3], ['aman', 'patidar'])"
      ]
     },
     "execution_count": 31,
     "metadata": {},
     "output_type": "execute_result"
    }
   ],
   "source": [
    "# nested tuple\n",
    "t=(1,\"aman\",\"patidar\",True,66,33,\"str\",[1,2,3],[\"aman\",\"patidar\"])\n",
    "t\n"
   ]
  },
  {
   "cell_type": "code",
   "execution_count": 33,
   "id": "aa8466b8-fa30-4a52-83c4-9c181e74036a",
   "metadata": {},
   "outputs": [
    {
     "name": "stdout",
     "output_type": "stream",
     "text": [
      "<class 'str'>\n",
      "<class 'tuple'>\n"
     ]
    },
    {
     "data": {
      "text/plain": [
       "('helo',)"
      ]
     },
     "execution_count": 33,
     "metadata": {},
     "output_type": "execute_result"
    }
   ],
   "source": [
    "#creting tuple with one item \n",
    "v=(\"helo\")\n",
    "print(type(v))\n",
    "v\n",
    "# we can see that if we assign single vhello its type is str but we created tuple to solve this \n",
    "#issue we have put comma after hello \n",
    "v=(\"helo\",)\n",
    "print(type(v))\n",
    "v"
   ]
  },
  {
   "cell_type": "markdown",
   "id": "37104490-4c29-4519-be0c-c0ecf6b7b049",
   "metadata": {},
   "source": [
    "# Tuple Constructor"
   ]
  },
  {
   "cell_type": "code",
   "execution_count": 37,
   "id": "7d08deb2-6bb6-48b7-94a0-b1e9571f8eb9",
   "metadata": {},
   "outputs": [
    {
     "name": "stdout",
     "output_type": "stream",
     "text": [
      "<class 'tuple'>\n"
     ]
    },
    {
     "data": {
      "text/plain": [
       "(1, 2, 3, 4)"
      ]
     },
     "execution_count": 37,
     "metadata": {},
     "output_type": "execute_result"
    }
   ],
   "source": [
    "a=tuple((1,2,3,4))\n",
    "print(type(a))\n",
    "a"
   ]
  },
  {
   "cell_type": "code",
   "execution_count": 38,
   "id": "690d3aec-8b82-41d0-a1e6-467b69afb9ec",
   "metadata": {},
   "outputs": [
    {
     "name": "stdout",
     "output_type": "stream",
     "text": [
      "33\n"
     ]
    }
   ],
   "source": [
    "#indexing\n",
    "print(t[5])"
   ]
  },
  {
   "cell_type": "code",
   "execution_count": 40,
   "id": "4bb665b3-fcc3-400c-984a-0f0c7edc12d7",
   "metadata": {},
   "outputs": [
    {
     "name": "stdout",
     "output_type": "stream",
     "text": [
      "3\n"
     ]
    }
   ],
   "source": [
    "print(t[7][2])"
   ]
  },
  {
   "cell_type": "code",
   "execution_count": 42,
   "id": "e0279ea9-0338-4aad-a829-ac2b0d0735f8",
   "metadata": {},
   "outputs": [
    {
     "name": "stdout",
     "output_type": "stream",
     "text": [
      "('aman', 'patidar', True, 66, 33, 'str')\n"
     ]
    }
   ],
   "source": [
    "#slicing\n",
    "print(t[1:7])"
   ]
  },
  {
   "cell_type": "code",
   "execution_count": 43,
   "id": "05d8791a-9d6a-4af4-b1ef-deee8c8af745",
   "metadata": {},
   "outputs": [
    {
     "name": "stdout",
     "output_type": "stream",
     "text": [
      "('aman', True, 33)\n"
     ]
    }
   ],
   "source": [
    "print(t[1:7:2])"
   ]
  },
  {
   "cell_type": "code",
   "execution_count": 44,
   "id": "526c4116-cd94-427f-84d5-330cbe847540",
   "metadata": {},
   "outputs": [
    {
     "name": "stdout",
     "output_type": "stream",
     "text": [
      "(1, 'patidar', 66, 'str', ['aman', 'patidar'])\n"
     ]
    }
   ],
   "source": [
    "print(t[::2])\n",
    "# startwith zero ,run till end with the gap of 2"
   ]
  },
  {
   "cell_type": "code",
   "execution_count": 45,
   "id": "c5f5e749-5789-40f2-8c46-cc397d6a761d",
   "metadata": {},
   "outputs": [
    {
     "name": "stdout",
     "output_type": "stream",
     "text": [
      "(['aman', 'patidar'], [1, 2, 3], 'str', 33, 66, True, 'patidar', 'aman', 1)\n"
     ]
    }
   ],
   "source": [
    "#reverse a tuple\n",
    "print(t[::-1])"
   ]
  },
  {
   "cell_type": "code",
   "execution_count": 50,
   "id": "9dd4e600-37ef-4e3d-a873-4a6f477b65e0",
   "metadata": {},
   "outputs": [
    {
     "name": "stdout",
     "output_type": "stream",
     "text": [
      "(1, 2, 3, 4, 5, 6, 7, 8)\n",
      "(4, 5, 6, 7, 8)\n",
      "(1, 2, 3, 4)\n",
      "()\n"
     ]
    }
   ],
   "source": [
    "T = (1,2,3,4,5,6,7,8)\n",
    "print(T[::])\n",
    "print(T[3:])\n",
    "print(T[:4])\n",
    "print(T[-2:-5])"
   ]
  },
  {
   "cell_type": "code",
   "execution_count": 51,
   "id": "455ec1cc-4f7e-4db2-976d-07162a391a4c",
   "metadata": {},
   "outputs": [
    {
     "name": "stdout",
     "output_type": "stream",
     "text": [
      "()\n"
     ]
    }
   ],
   "source": [
    "print(T[-2:-5])"
   ]
  },
  {
   "cell_type": "code",
   "execution_count": 59,
   "id": "88bcea40-aed5-4c8b-a0eb-828219559def",
   "metadata": {},
   "outputs": [
    {
     "name": "stdout",
     "output_type": "stream",
     "text": [
      "[1, 2, 3, 4, 5, 6, 7, 8, 'orange']\n",
      "(1, 2, 3, 4, 5, 6, 7, 8, 'orange')\n"
     ]
    }
   ],
   "source": [
    "#IMMUTABLE\n",
    "#tuple to list then we can add then again convet to tuple\n",
    "T = (1,2,3,4,5,6,7,8)\n",
    "y=list(T)\n",
    "y.append(\"orange\")\n",
    "print(y)\n",
    "T=tuple(y)\n",
    "print(T)\n"
   ]
  },
  {
   "cell_type": "code",
   "execution_count": 60,
   "id": "ebb18df7-7e9a-431d-996a-2fd711102112",
   "metadata": {},
   "outputs": [
    {
     "name": "stdout",
     "output_type": "stream",
     "text": [
      "[1, 2, 3, 4, 5, 6, 7, 8]\n",
      "(1, 2, 3, 4, 5, 6, 7, 8)\n"
     ]
    }
   ],
   "source": [
    "T = (1,2,3,4,5,6,7,8,\"orange\")\n",
    "y=list(T)\n",
    "y.remove(\"orange\")\n",
    "print(y)\n",
    "T=tuple(y)\n",
    "print(T)\n"
   ]
  },
  {
   "cell_type": "code",
   "execution_count": 61,
   "id": "d6920ba2-97dd-4ccc-8a20-162dce8a66d8",
   "metadata": {},
   "outputs": [
    {
     "ename": "NameError",
     "evalue": "name 'T' is not defined",
     "output_type": "error",
     "traceback": [
      "\u001b[1;31m---------------------------------------------------------------------------\u001b[0m",
      "\u001b[1;31mNameError\u001b[0m                                 Traceback (most recent call last)",
      "Cell \u001b[1;32mIn[61], line 3\u001b[0m\n\u001b[0;32m      1\u001b[0m \u001b[38;5;66;03m#delete\u001b[39;00m\n\u001b[0;32m      2\u001b[0m \u001b[38;5;28;01mdel\u001b[39;00m T\n\u001b[1;32m----> 3\u001b[0m \u001b[43mT\u001b[49m\n",
      "\u001b[1;31mNameError\u001b[0m: name 'T' is not defined"
     ]
    }
   ],
   "source": [
    "#delete = it will delete whole tuple from the memory \n",
    "del T\n",
    "T"
   ]
  },
  {
   "cell_type": "code",
   "execution_count": 63,
   "id": "84bc172a-9543-485d-83db-b46ee98ad3d3",
   "metadata": {},
   "outputs": [
    {
     "name": "stdout",
     "output_type": "stream",
     "text": [
      "('a', 'b', 'c')\n",
      "('a', 'b', 'c')\n",
      "('a', 'b', 'c')\n"
     ]
    }
   ],
   "source": [
    "#loop\n",
    "R = (\"a\",\"b\",\"c\")\n",
    "for x in R:\n",
    "    print(R)"
   ]
  },
  {
   "cell_type": "code",
   "execution_count": 64,
   "id": "77c05b6e-5af7-49ea-90d4-dff4b81de262",
   "metadata": {},
   "outputs": [
    {
     "data": {
      "text/plain": [
       "(1, 2, 3, 4, 5, 6, 7, 8, 9)"
      ]
     },
     "execution_count": 64,
     "metadata": {},
     "output_type": "execute_result"
    }
   ],
   "source": [
    "#join two tuple\n",
    "t1 = (1,2,3,4,5)\n",
    "t2=(6,7,8,9)\n",
    "t3=t1+t2\n",
    "t3"
   ]
  },
  {
   "cell_type": "code",
   "execution_count": 66,
   "id": "d1fb0c6c-7bf9-41ba-85cf-ca07fdadaa86",
   "metadata": {},
   "outputs": [
    {
     "name": "stdout",
     "output_type": "stream",
     "text": [
      "(1, 2, 3, 4, 5, 1, 2, 3, 4, 5, 1, 2, 3, 4, 5)\n"
     ]
    }
   ],
   "source": [
    "#multiply two tuple\n",
    "t4=t1*3\n",
    "print(t4)"
   ]
  },
  {
   "cell_type": "code",
   "execution_count": 67,
   "id": "ce7ad563-9cdc-41ea-ba22-3bb66f9e503f",
   "metadata": {},
   "outputs": [
    {
     "name": "stdout",
     "output_type": "stream",
     "text": [
      "('a', 'b', 'c', 'a', 'b', 'c')\n",
      "(1, 2, 3, 4, 5, 1, 2, 3, 4, 5, 1, 2, 3, 4, 5)\n",
      "(1, 2, 3, 4, 5, 1, 2, 3, 4, 5)\n",
      "5\n"
     ]
    }
   ],
   "source": [
    "print(R*2)\n",
    "print(t1+t1+t1)\n",
    "print(t1+t1)\n",
    "print(len(t1))"
   ]
  },
  {
   "cell_type": "code",
   "execution_count": 69,
   "id": "8510c516-1a84-47ae-a966-6bb3483f9834",
   "metadata": {},
   "outputs": [
    {
     "name": "stdin",
     "output_type": "stream",
     "text": [
      "enter a number  33\n"
     ]
    },
    {
     "name": "stdout",
     "output_type": "stream",
     "text": [
      "(33,)\n"
     ]
    },
    {
     "name": "stdin",
     "output_type": "stream",
     "text": [
      "enter a number  66\n"
     ]
    },
    {
     "name": "stdout",
     "output_type": "stream",
     "text": [
      "(33, 66)\n"
     ]
    },
    {
     "name": "stdin",
     "output_type": "stream",
     "text": [
      "enter a number  77\n"
     ]
    },
    {
     "name": "stdout",
     "output_type": "stream",
     "text": [
      "(33, 66, 77)\n"
     ]
    },
    {
     "name": "stdin",
     "output_type": "stream",
     "text": [
      "enter a number  88\n"
     ]
    },
    {
     "name": "stdout",
     "output_type": "stream",
     "text": [
      "(33, 66, 77, 88)\n"
     ]
    },
    {
     "name": "stdin",
     "output_type": "stream",
     "text": [
      "enter a number  77\n"
     ]
    },
    {
     "name": "stdout",
     "output_type": "stream",
     "text": [
      "(33, 66, 77, 88, 77)\n"
     ]
    },
    {
     "name": "stdin",
     "output_type": "stream",
     "text": [
      "enter a number  77\n"
     ]
    },
    {
     "name": "stdout",
     "output_type": "stream",
     "text": [
      "(33, 66, 77, 88, 77, 77)\n"
     ]
    }
   ],
   "source": [
    "# write a prog to take 5 item, from user and store it in tuple\n",
    "t=()\n",
    "i=0\n",
    "while i<=5:\n",
    "    a=int(input(\"enter a number \"))\n",
    "    t = t+(a,)\n",
    "    i=i+1\n",
    "    print(t)"
   ]
  },
  {
   "cell_type": "markdown",
   "id": "0a0f3357-b97f-4dda-a2e4-7c461d4525f2",
   "metadata": {},
   "source": [
    "# Dictionary"
   ]
  },
  {
   "cell_type": "markdown",
   "id": "e30a3d6c-3297-4567-bad8-5acddfa7e407",
   "metadata": {},
   "source": [
    "# dict is used to store data values in keys:calue pair.\n",
    "## MUTABLE\n",
    "## like list it can nested.\n",
    "### a dic canalso contain list and vice versa.\n",
    "## DICT ORDERED , Changable , anddoes not allow duplicates\n",
    "### item can be reffered by the key values\n",
    "# represented by {}\n"
   ]
  },
  {
   "cell_type": "code",
   "execution_count": 71,
   "id": "3f624bd0-8ef5-4d42-880c-9d8b480cdaec",
   "metadata": {},
   "outputs": [
    {
     "data": {
      "text/plain": [
       "{'id': '123ab', 'color': 'red', 'rank': 2}"
      ]
     },
     "execution_count": 71,
     "metadata": {},
     "output_type": "execute_result"
    }
   ],
   "source": [
    "#creating a dict \n",
    "a = {\"id\":\"123ab\",\n",
    "    \"color\":\"red\",\n",
    "    \"rank\":2}\n",
    "a"
   ]
  },
  {
   "cell_type": "code",
   "execution_count": 72,
   "id": "966bae26-53d6-4c52-b567-8f98eaff7687",
   "metadata": {},
   "outputs": [
    {
     "name": "stdout",
     "output_type": "stream",
     "text": [
      "<class 'dict'>\n"
     ]
    }
   ],
   "source": [
    "print(type(a))"
   ]
  },
  {
   "cell_type": "code",
   "execution_count": 73,
   "id": "b6477c5c-1d20-4ae9-9a3f-50a5763324f8",
   "metadata": {},
   "outputs": [
    {
     "name": "stdout",
     "output_type": "stream",
     "text": [
      "2\n"
     ]
    }
   ],
   "source": [
    "print(a[\"rank\"])\n"
   ]
  },
  {
   "cell_type": "code",
   "execution_count": 78,
   "id": "b1476024-765c-4a4b-a797-aa7e1e4b228a",
   "metadata": {},
   "outputs": [
    {
     "data": {
      "text/plain": [
       "{'id': '123ab', 'color': 'red', 'rank': 2, 'y': 2002, 'year': 2005}"
      ]
     },
     "execution_count": 78,
     "metadata": {},
     "output_type": "execute_result"
    }
   ],
   "source": [
    "#check is duplicate allow or not\n",
    "a = {\"id\":\"123ab\",\n",
    "    \"color\":\"red\",\n",
    "    \"rank\":2,\n",
    "    \"y\":2002,\n",
    "    \"year\":2005}\n",
    "a"
   ]
  },
  {
   "cell_type": "code",
   "execution_count": 79,
   "id": "9aa997c5-d65f-4ca5-880f-397e8732bd0d",
   "metadata": {},
   "outputs": [
    {
     "name": "stdout",
     "output_type": "stream",
     "text": [
      "5\n"
     ]
    }
   ],
   "source": [
    "print(len(a))"
   ]
  },
  {
   "cell_type": "code",
   "execution_count": 80,
   "id": "f3b3e5c7-690d-40cb-a2ca-8af225ca5879",
   "metadata": {},
   "outputs": [
    {
     "data": {
      "text/plain": [
       "{'id': '123ab',\n",
       " 'color': 'red',\n",
       " 'rank': 2,\n",
       " 'y': (1, 2, 3, 4),\n",
       " 'year': 2005,\n",
       " 't': [1, 88, 55, 19]}"
      ]
     },
     "execution_count": 80,
     "metadata": {},
     "output_type": "execute_result"
    }
   ],
   "source": [
    "a = {\"id\":\"123ab\",\n",
    "    \"color\":\"red\",\n",
    "    \"rank\":2,\n",
    "    \"y\":(1,2,3,4),\n",
    "    \"year\":2005,\n",
    "    \"t\":[1,88,55,19]}\n",
    "a"
   ]
  },
  {
   "cell_type": "code",
   "execution_count": 81,
   "id": "b552ac76-5e97-42af-b63e-036c29ba1fa8",
   "metadata": {},
   "outputs": [],
   "source": [
    "# one more way to creste dictionary using dict "
   ]
  },
  {
   "cell_type": "code",
   "execution_count": 83,
   "id": "d922436f-157f-4462-9e88-d485a616c4b8",
   "metadata": {},
   "outputs": [
    {
     "data": {
      "text/plain": [
       "{'name': 'aman', 'surname': 'patidar', 'Class': 'aiml', 'age': 22}"
      ]
     },
     "execution_count": 83,
     "metadata": {},
     "output_type": "execute_result"
    }
   ],
   "source": [
    "a=dict(name=\"aman\",surname = \"patidar\",Class=\"aiml\", age = 22)\n",
    "a"
   ]
  },
  {
   "cell_type": "code",
   "execution_count": 85,
   "id": "5a878052-dd75-4d9a-a0ec-fbd1883815bd",
   "metadata": {},
   "outputs": [
    {
     "name": "stdout",
     "output_type": "stream",
     "text": [
      "aman\n"
     ]
    }
   ],
   "source": [
    "print(a['name'])"
   ]
  },
  {
   "cell_type": "code",
   "execution_count": 86,
   "id": "1ef92ac1-a629-42c3-87b4-0c3388668e16",
   "metadata": {},
   "outputs": [
    {
     "name": "stdout",
     "output_type": "stream",
     "text": [
      "aman\n"
     ]
    }
   ],
   "source": [
    "print(a.get(\"name\"))"
   ]
  },
  {
   "cell_type": "code",
   "execution_count": 89,
   "id": "7e863f90-5a3f-4356-a9e3-7b3bc960cb33",
   "metadata": {},
   "outputs": [
    {
     "data": {
      "text/plain": [
       "dict_keys(['name', 'surname', 'Class', 'age'])"
      ]
     },
     "execution_count": 89,
     "metadata": {},
     "output_type": "execute_result"
    }
   ],
   "source": [
    "# to see key\n",
    "x = a.keys()\n",
    "x"
   ]
  },
  {
   "cell_type": "code",
   "execution_count": 90,
   "id": "740b0fc7-f8af-44c2-8c35-fb4737300666",
   "metadata": {},
   "outputs": [
    {
     "data": {
      "text/plain": [
       "dict_values(['aman', 'patidar', 'aiml', 22])"
      ]
     },
     "execution_count": 90,
     "metadata": {},
     "output_type": "execute_result"
    }
   ],
   "source": [
    "# values\n",
    "x = a.values()\n",
    "x"
   ]
  },
  {
   "cell_type": "code",
   "execution_count": 91,
   "id": "ca43ba74-b136-45ea-af84-489e0b7a0bbb",
   "metadata": {},
   "outputs": [
    {
     "data": {
      "text/plain": [
       "{'name': 'aman', 'surname': 'patidar', 'Class': 'aiml', 'age': 23}"
      ]
     },
     "execution_count": 91,
     "metadata": {},
     "output_type": "execute_result"
    }
   ],
   "source": [
    "#change\n",
    "a['age']=23\n",
    "a"
   ]
  },
  {
   "cell_type": "code",
   "execution_count": 92,
   "id": "c61fd749-2623-45d4-8f9f-58f3bee1c224",
   "metadata": {},
   "outputs": [
    {
     "data": {
      "text/plain": [
       "{'name': 'aman',\n",
       " 'surname': 'patidar',\n",
       " 'Class': 'aiml',\n",
       " 'age': 23,\n",
       " 'mail': 'amanpatidar456@gmail.com'}"
      ]
     },
     "execution_count": 92,
     "metadata": {},
     "output_type": "execute_result"
    }
   ],
   "source": [
    "#add\n",
    "a.update({\"mail\":\"amanpatidar456@gmail.com\"})\n",
    "a"
   ]
  },
  {
   "cell_type": "code",
   "execution_count": 93,
   "id": "1440eb78-9b11-4bcf-8520-27e72a933be7",
   "metadata": {},
   "outputs": [
    {
     "data": {
      "text/plain": [
       "{'name': 'aman',\n",
       " 'surname': 'patidar',\n",
       " 'Class': 'aiml',\n",
       " 'mail': 'amanpatidar456@gmail.com'}"
      ]
     },
     "execution_count": 93,
     "metadata": {},
     "output_type": "execute_result"
    }
   ],
   "source": [
    "#remove\n",
    "a.pop(\"age\")\n",
    "a"
   ]
  },
  {
   "cell_type": "code",
   "execution_count": 97,
   "id": "a73dcdf7-2208-4566-9857-61465e3a4a5d",
   "metadata": {},
   "outputs": [
    {
     "ename": "NameError",
     "evalue": "name 'a' is not defined",
     "output_type": "error",
     "traceback": [
      "\u001b[1;31m---------------------------------------------------------------------------\u001b[0m",
      "\u001b[1;31mNameError\u001b[0m                                 Traceback (most recent call last)",
      "Cell \u001b[1;32mIn[97], line 2\u001b[0m\n\u001b[0;32m      1\u001b[0m \u001b[38;5;66;03m#delete\u001b[39;00m\n\u001b[1;32m----> 2\u001b[0m \u001b[43ma\u001b[49m\n",
      "\u001b[1;31mNameError\u001b[0m: name 'a' is not defined"
     ]
    }
   ],
   "source": [
    "#delete\n",
    "\n",
    "del"
   ]
  },
  {
   "cell_type": "code",
   "execution_count": 99,
   "id": "5ce1469b-15bd-49b9-b037-c35602a8ac72",
   "metadata": {},
   "outputs": [
    {
     "data": {
      "text/plain": [
       "{'name': 'aman',\n",
       " 'surname': 'patidar',\n",
       " 'Class': 'aiml',\n",
       " 'age': 23,\n",
       " 'mail': 'amanpatidar456@gmail.com'}"
      ]
     },
     "execution_count": 99,
     "metadata": {},
     "output_type": "execute_result"
    }
   ],
   "source": [
    "a = {'name': 'aman',\n",
    " 'surname': 'patidar',\n",
    " 'Class': 'aiml',\n",
    " 'age': 23,\n",
    " 'mail': 'amanpatidar456@gmail.com'}\n",
    "a"
   ]
  },
  {
   "cell_type": "code",
   "execution_count": 100,
   "id": "d95a0b25-92c3-4467-bf2b-00630203594b",
   "metadata": {},
   "outputs": [
    {
     "data": {
      "text/plain": [
       "{}"
      ]
     },
     "execution_count": 100,
     "metadata": {},
     "output_type": "execute_result"
    }
   ],
   "source": [
    "#clear method - clease all and return empty dic\n",
    "a.clear()\n",
    "a\n"
   ]
  },
  {
   "cell_type": "code",
   "execution_count": 101,
   "id": "852fb050-3507-443c-a809-c2a5996eee92",
   "metadata": {},
   "outputs": [
    {
     "name": "stdout",
     "output_type": "stream",
     "text": [
      "<class 'dict'>\n"
     ]
    }
   ],
   "source": [
    "print(type(a))"
   ]
  },
  {
   "cell_type": "code",
   "execution_count": 103,
   "id": "816b9797-70d7-430b-99a6-26ee2c3f13c6",
   "metadata": {},
   "outputs": [
    {
     "name": "stdout",
     "output_type": "stream",
     "text": [
      "{1: 10, 2: 22, 3: 33, 4: 44, 5: 55, 6: 66, 7: 77}\n"
     ]
    }
   ],
   "source": [
    "d1 = {1:10,\n",
    "     2:22,\n",
    "     3:33,\n",
    "     4:44}\n",
    "d2 = {5:55,\n",
    "     6:66,\n",
    "     7:77}\n",
    "d3 = {}\n",
    "for d in(d1,d2):\n",
    "    d3.update(d)\n",
    "print(d3)\n"
   ]
  },
  {
   "cell_type": "code",
   "execution_count": 105,
   "id": "842f84b2-6235-4577-bafb-9ac9a7224490",
   "metadata": {},
   "outputs": [
    {
     "data": {
      "text/plain": [
       "dict_values([10, 22, 33, 44, 55, 66, 77])"
      ]
     },
     "execution_count": 105,
     "metadata": {},
     "output_type": "execute_result"
    }
   ],
   "source": [
    "d3.keys()\n",
    "d3.values()"
   ]
  },
  {
   "cell_type": "code",
   "execution_count": 106,
   "id": "81c77112-6140-427f-8cfa-c4c9803b8282",
   "metadata": {},
   "outputs": [
    {
     "name": "stdout",
     "output_type": "stream",
     "text": [
      "{1: 1, 2: 4, 3: 9, 4: 16, 5: 25, 6: 36, 7: 49, 8: 64, 9: 81, 10: 100, 11: 121, 12: 144, 13: 169, 14: 196, 15: 225}\n"
     ]
    }
   ],
   "source": [
    "# sqr of keys\n",
    "d = dict({})\n",
    "for x in range(1,16):\n",
    "    d[x] = x**2\n",
    "print(d)"
   ]
  },
  {
   "cell_type": "code",
   "execution_count": 109,
   "id": "5b7406f8-2732-4dc7-9f75-1a65312b8c15",
   "metadata": {},
   "outputs": [
    {
     "name": "stdout",
     "output_type": "stream",
     "text": [
      "keys is present\n",
      "not present\n"
     ]
    }
   ],
   "source": [
    "# check wheather a given key is already exist in a dic or not\n",
    "d = {1:2,2:3,3:30,4:40,5:50,6:60}\n",
    "def is_present(x):\n",
    "    if x in d:\n",
    "        print(\"keys is present\")\n",
    "    else:\n",
    "        print(\"not present\")\n",
    "is_present(5)\n",
    "is_present(10)"
   ]
  },
  {
   "cell_type": "markdown",
   "id": "8a377968-97f7-4e7a-96bf-d23b14f48348",
   "metadata": {},
   "source": [
    "# sets\n",
    "# mutable \n",
    "# nesting not possible\n",
    "#### we can add or remove but not change thats why it is mutable\n",
    "## used to store multiple elements in a single variable.\n",
    "# Unordered , unchangable and unindexed ,not allow duplicate\n",
    "# represented by { } \n",
    "#### diff by dict is there is not key:value pair.\n"
   ]
  },
  {
   "cell_type": "code",
   "execution_count": 113,
   "id": "01a4dd80-07b1-48ca-be94-7643b6910699",
   "metadata": {},
   "outputs": [
    {
     "name": "stdout",
     "output_type": "stream",
     "text": [
      "<class 'set'>\n"
     ]
    },
    {
     "data": {
      "text/plain": [
       "{'animal', 'people'}"
      ]
     },
     "execution_count": 113,
     "metadata": {},
     "output_type": "execute_result"
    }
   ],
   "source": [
    "a = {\"animal\",\"people\"}\n",
    "print(type(a))\n",
    "a"
   ]
  },
  {
   "cell_type": "code",
   "execution_count": 112,
   "id": "0d935b78-8e01-4a72-a4ac-952dc04fb28f",
   "metadata": {},
   "outputs": [
    {
     "ename": "TypeError",
     "evalue": "'set' object is not subscriptable",
     "output_type": "error",
     "traceback": [
      "\u001b[1;31m---------------------------------------------------------------------------\u001b[0m",
      "\u001b[1;31mTypeError\u001b[0m                                 Traceback (most recent call last)",
      "Cell \u001b[1;32mIn[112], line 3\u001b[0m\n\u001b[0;32m      1\u001b[0m \u001b[38;5;66;03m# sets are unordered \u001b[39;00m\n\u001b[0;32m      2\u001b[0m a \u001b[38;5;241m=\u001b[39m {\u001b[38;5;124m\"\u001b[39m\u001b[38;5;124manimal\u001b[39m\u001b[38;5;124m\"\u001b[39m,\u001b[38;5;124m\"\u001b[39m\u001b[38;5;124mpeople\u001b[39m\u001b[38;5;124m\"\u001b[39m}\n\u001b[1;32m----> 3\u001b[0m \u001b[38;5;28mprint\u001b[39m(\u001b[43ma\u001b[49m\u001b[43m[\u001b[49m\u001b[38;5;241;43m1\u001b[39;49m\u001b[43m]\u001b[49m)\n",
      "\u001b[1;31mTypeError\u001b[0m: 'set' object is not subscriptable"
     ]
    }
   ],
   "source": [
    "# sets are unordered \n",
    "a = {\"animal\",\"people\"}\n",
    "print(a[1])\n"
   ]
  },
  {
   "cell_type": "code",
   "execution_count": 114,
   "id": "82604141-e8ad-4b17-9df8-77a6d7e03e29",
   "metadata": {},
   "outputs": [
    {
     "data": {
      "text/plain": [
       "{'animal', 'people'}"
      ]
     },
     "execution_count": 114,
     "metadata": {},
     "output_type": "execute_result"
    }
   ],
   "source": [
    "# not allow duplicate\n",
    "a = {\"animal\",\"people\",\"animal\"}\n",
    "a\n",
    "# not allow not print twice"
   ]
  },
  {
   "cell_type": "markdown",
   "id": "482fa74f-a7a4-4a3b-8c3e-dc60ad1658a2",
   "metadata": {},
   "source": [
    "## True and one are consider as the same value"
   ]
  },
  {
   "cell_type": "code",
   "execution_count": 2,
   "id": "5c63d7a3-c7f2-4240-8893-3155954a81ed",
   "metadata": {},
   "outputs": [
    {
     "data": {
      "text/plain": [
       "{True, 'animal', 'people'}"
      ]
     },
     "execution_count": 2,
     "metadata": {},
     "output_type": "execute_result"
    }
   ],
   "source": [
    "a = {\"animal\",\"people\",\"animal\",True,1}\n",
    "a\n",
    "#true or one are consider same\n"
   ]
  },
  {
   "cell_type": "code",
   "execution_count": 3,
   "id": "0a0d593d-b3b5-4bbf-9263-1e7ce96c5736",
   "metadata": {},
   "outputs": [
    {
     "name": "stdout",
     "output_type": "stream",
     "text": [
      "3\n"
     ]
    }
   ],
   "source": [
    "a = {\"animal\",\"people\",\"animal\",True,1}\n",
    "print(len(a))"
   ]
  },
  {
   "cell_type": "code",
   "execution_count": 4,
   "id": "21dbdbec-a926-4aaa-be1f-5a7a2f8fac44",
   "metadata": {},
   "outputs": [
    {
     "name": "stdout",
     "output_type": "stream",
     "text": [
      "{1, 2, 3, 4} {'b', 'a', 'c'} {False, True}\n"
     ]
    }
   ],
   "source": [
    "x1={1,2,3,4}\n",
    "x2={\"a\",\"b\",\"c\"}\n",
    "x3={True,False,True}\n",
    "print(x1,x2,x3)"
   ]
  },
  {
   "cell_type": "code",
   "execution_count": 7,
   "id": "579a5302-ec85-4bc4-aafe-ee2da633be23",
   "metadata": {},
   "outputs": [
    {
     "ename": "TypeError",
     "evalue": "unhashable type: 'list'",
     "output_type": "error",
     "traceback": [
      "\u001b[1;31m---------------------------------------------------------------------------\u001b[0m",
      "\u001b[1;31mTypeError\u001b[0m                                 Traceback (most recent call last)",
      "Cell \u001b[1;32mIn[7], line 2\u001b[0m\n\u001b[0;32m      1\u001b[0m a \u001b[38;5;241m=\u001b[39m {\u001b[38;5;124m\"\u001b[39m\u001b[38;5;124manimal\u001b[39m\u001b[38;5;124m\"\u001b[39m,\u001b[38;5;124m\"\u001b[39m\u001b[38;5;124mpeople\u001b[39m\u001b[38;5;124m\"\u001b[39m,\u001b[38;5;124m\"\u001b[39m\u001b[38;5;124manimal\u001b[39m\u001b[38;5;124m\"\u001b[39m,\u001b[38;5;28;01mTrue\u001b[39;00m,\u001b[38;5;241m1\u001b[39m,(\u001b[38;5;124m\"\u001b[39m\u001b[38;5;124ma\u001b[39m\u001b[38;5;124m\"\u001b[39m,\u001b[38;5;241m2\u001b[39m)}\u001b[38;5;66;03m#we can ad tuple in set\u001b[39;00m\n\u001b[1;32m----> 2\u001b[0m a \u001b[38;5;241m=\u001b[39m {\u001b[38;5;124m\"\u001b[39m\u001b[38;5;124manimal\u001b[39m\u001b[38;5;124m\"\u001b[39m,\u001b[38;5;124m\"\u001b[39m\u001b[38;5;124mpeople\u001b[39m\u001b[38;5;124m\"\u001b[39m,\u001b[38;5;124m\"\u001b[39m\u001b[38;5;124manimal\u001b[39m\u001b[38;5;124m\"\u001b[39m,\u001b[38;5;28;01mTrue\u001b[39;00m,\u001b[38;5;241m1\u001b[39m,[\u001b[38;5;241m1\u001b[39m,\u001b[38;5;241m2\u001b[39m,\u001b[38;5;241m3\u001b[39m]}\u001b[38;5;66;03m#we cannot add list into sets\u001b[39;00m\n\u001b[0;32m      3\u001b[0m x1\u001b[38;5;241m=\u001b[39m{\u001b[38;5;241m1\u001b[39m,\u001b[38;5;241m2\u001b[39m,\u001b[38;5;241m3\u001b[39m,\u001b[38;5;241m4\u001b[39m,{\u001b[38;5;124m\"\u001b[39m\u001b[38;5;124ms\u001b[39m\u001b[38;5;124m\"\u001b[39m:\u001b[38;5;241m1\u001b[39m}}\n\u001b[0;32m      4\u001b[0m \u001b[38;5;28mprint\u001b[39m(x1)\n",
      "\u001b[1;31mTypeError\u001b[0m: unhashable type: 'list'"
     ]
    }
   ],
   "source": [
    "a = {\"animal\",\"people\",\"animal\",True,1,(\"a\",2)}#we can ad tuple in set\n",
    "a = {\"animal\",\"people\",\"animal\",True,1,[1,2,3]}#we cannot add list into sets\n",
    "x1={1,2,3,4,{\"s\":1}}\n",
    "print(x1)\n",
    "\n"
   ]
  },
  {
   "cell_type": "code",
   "execution_count": 8,
   "id": "3c98c5b8-ac85-40d8-a640-acf9668c7e4d",
   "metadata": {},
   "outputs": [
    {
     "ename": "TypeError",
     "evalue": "unhashable type: 'dict'",
     "output_type": "error",
     "traceback": [
      "\u001b[1;31m---------------------------------------------------------------------------\u001b[0m",
      "\u001b[1;31mTypeError\u001b[0m                                 Traceback (most recent call last)",
      "Cell \u001b[1;32mIn[8], line 1\u001b[0m\n\u001b[1;32m----> 1\u001b[0m x1\u001b[38;5;241m=\u001b[39m{\u001b[38;5;241m1\u001b[39m,\u001b[38;5;241m2\u001b[39m,\u001b[38;5;241m3\u001b[39m,\u001b[38;5;241m4\u001b[39m,{\u001b[38;5;124m\"\u001b[39m\u001b[38;5;124ms\u001b[39m\u001b[38;5;124m\"\u001b[39m:\u001b[38;5;241m1\u001b[39m}}\n\u001b[0;32m      2\u001b[0m \u001b[38;5;28mprint\u001b[39m(x1)\n",
      "\u001b[1;31mTypeError\u001b[0m: unhashable type: 'dict'"
     ]
    }
   ],
   "source": [
    "x1={1,2,3,4,{\"s\":1}}#we cannot add dict into set\n",
    "print(x1)"
   ]
  },
  {
   "cell_type": "code",
   "execution_count": 11,
   "id": "1331a61d-0a0b-4b0c-85f9-c6e31f4a7439",
   "metadata": {},
   "outputs": [
    {
     "name": "stdout",
     "output_type": "stream",
     "text": [
      "{'beta', 'alpha'}\n",
      "<class 'set'>\n"
     ]
    }
   ],
   "source": [
    "# set constructor \n",
    "this = set((\"alpha\",\"beta\"))\n",
    "print(this)\n",
    "print(type(this))"
   ]
  },
  {
   "cell_type": "code",
   "execution_count": 13,
   "id": "7fb1eb9b-2e0a-4032-aabc-a945aa1ee583",
   "metadata": {},
   "outputs": [
    {
     "name": "stdout",
     "output_type": "stream",
     "text": [
      "<class 'dict'>\n"
     ]
    }
   ],
   "source": [
    "# empty set\n",
    "a = {}\n",
    "a\n",
    "print(type(a))\n",
    "#but this will return dict \n"
   ]
  },
  {
   "cell_type": "code",
   "execution_count": 15,
   "id": "da107284-0ff2-4c09-89c6-2acb19148a52",
   "metadata": {},
   "outputs": [
    {
     "name": "stdout",
     "output_type": "stream",
     "text": [
      "set()\n",
      "<class 'set'>\n"
     ]
    }
   ],
   "source": [
    "empty = set()\n",
    "print(empty)\n",
    "print(type(empty))"
   ]
  },
  {
   "cell_type": "code",
   "execution_count": 16,
   "id": "49ae04a9-74e3-4185-8b06-20520bba4dd7",
   "metadata": {},
   "outputs": [
    {
     "name": "stdout",
     "output_type": "stream",
     "text": [
      "b\n",
      "a\n",
      "c\n"
     ]
    }
   ],
   "source": [
    "#Access\n",
    "a={\"a\",\"b\",\"c\"}\n",
    "\n",
    "for x in a:\n",
    "    print(x)"
   ]
  },
  {
   "cell_type": "code",
   "execution_count": 17,
   "id": "37d9fdca-2480-45b0-b249-af26b178a44c",
   "metadata": {},
   "outputs": [
    {
     "name": "stdout",
     "output_type": "stream",
     "text": [
      "True\n"
     ]
    }
   ],
   "source": [
    "#chek if item is present in set\n",
    "a={\"a\",\"b\",\"c\"}\n",
    "print(\"b\"in a)\n"
   ]
  },
  {
   "cell_type": "code",
   "execution_count": 18,
   "id": "b77dbd9f-77d6-409a-9688-e1eb2cb49015",
   "metadata": {},
   "outputs": [
    {
     "data": {
      "text/plain": [
       "{100, 'a', 'b', 'c'}"
      ]
     },
     "execution_count": 18,
     "metadata": {},
     "output_type": "execute_result"
    }
   ],
   "source": [
    "#ADD item in set\n",
    "a={\"a\",\"b\",\"c\"}\n",
    "a.add(100)\n",
    "a"
   ]
  },
  {
   "cell_type": "code",
   "execution_count": 21,
   "id": "3925af3d-182d-46e0-9aee-406b8ac7086b",
   "metadata": {},
   "outputs": [
    {
     "data": {
      "text/plain": [
       "{'a', 'b', 'c', 'd', 'e'}"
      ]
     },
     "execution_count": 21,
     "metadata": {},
     "output_type": "execute_result"
    }
   ],
   "source": [
    "a={\"a\",\"b\",\"c\"}\n",
    "y={\"a\",\"d\",\"e\"}\n",
    "\n",
    "a.update(y)\n",
    "a"
   ]
  },
  {
   "cell_type": "code",
   "execution_count": 22,
   "id": "3994aa14-5a45-4ac1-b23d-401f021c887c",
   "metadata": {},
   "outputs": [
    {
     "data": {
      "text/plain": [
       "{'a', 'c'}"
      ]
     },
     "execution_count": 22,
     "metadata": {},
     "output_type": "execute_result"
    }
   ],
   "source": [
    "#remove set item \n",
    "a={\"a\",\"b\",\"c\"}\n",
    "a.remove(\"b\")\n",
    "a"
   ]
  },
  {
   "cell_type": "code",
   "execution_count": 25,
   "id": "ed378ba3-a806-45ce-935f-2a4c9e3630ff",
   "metadata": {},
   "outputs": [
    {
     "data": {
      "text/plain": [
       "{'a', 'b', 'c', 'd', 'e'}"
      ]
     },
     "execution_count": 25,
     "metadata": {},
     "output_type": "execute_result"
    }
   ],
   "source": [
    "#join two sets\n",
    "a={\"a\",\"b\",\"c\"}\n",
    "y={\"a\",\"d\",\"e\"}\n",
    "z = a.union(y)\n",
    "z"
   ]
  },
  {
   "cell_type": "code",
   "execution_count": 28,
   "id": "af1421b6-431b-46d7-b470-013712c26c4b",
   "metadata": {},
   "outputs": [
    {
     "name": "stdout",
     "output_type": "stream",
     "text": [
      "orignal set element\n",
      "{1, 2, 3, 4}\n",
      "4\n",
      "1\n"
     ]
    }
   ],
   "source": [
    "#write a python prog find max and min \n",
    "x= {1,2,3,4}\n",
    "print(\"orignal set element\")\n",
    "print(x)\n",
    "print(max(x))\n",
    "print(min(x))"
   ]
  },
  {
   "cell_type": "code",
   "execution_count": 29,
   "id": "b5e7b032-9175-4657-93ee-9e1126d6efce",
   "metadata": {},
   "outputs": [
    {
     "data": {
      "text/plain": [
       "{'a'}"
      ]
     },
     "execution_count": 29,
     "metadata": {},
     "output_type": "execute_result"
    }
   ],
   "source": [
    "#common\n",
    "a={\"a\",\"b\",\"c\"}\n",
    "y={\"a\",\"d\",\"e\"}\n",
    "z=a.intersection(y)\n",
    "z"
   ]
  },
  {
   "cell_type": "code",
   "execution_count": null,
   "id": "fce1c735-ebd2-45cc-8eaa-527b9818ad29",
   "metadata": {},
   "outputs": [],
   "source": []
  }
 ],
 "metadata": {
  "kernelspec": {
   "display_name": "Python 3 (ipykernel)",
   "language": "python",
   "name": "python3"
  },
  "language_info": {
   "codemirror_mode": {
    "name": "ipython",
    "version": 3
   },
   "file_extension": ".py",
   "mimetype": "text/x-python",
   "name": "python",
   "nbconvert_exporter": "python",
   "pygments_lexer": "ipython3",
   "version": "3.12.0"
  },
  "widgets": {
   "application/vnd.jupyter.widget-state+json": {
    "state": {},
    "version_major": 2,
    "version_minor": 0
   }
  }
 },
 "nbformat": 4,
 "nbformat_minor": 5
}
